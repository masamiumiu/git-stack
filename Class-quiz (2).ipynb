{
 "cells": [
  {
   "cell_type": "markdown",
   "metadata": {},
   "source": [
    "# クラス演習問題\n",
    "以下の問いに答えよ"
   ]
  },
  {
   "cell_type": "markdown",
   "metadata": {},
   "source": [
    "## 1. クラスの定義\n",
    "以下のようなBMI計算をするためのコードがある"
   ]
  },
  {
   "cell_type": "code",
   "execution_count": 1,
   "metadata": {},
   "outputs": [
    {
     "name": "stdout",
     "output_type": "stream",
     "text": [
      "22.49134948096886\n",
      "27.915518824609737\n",
      "15.432098765432098\n"
     ]
    }
   ],
   "source": [
    "# ある人間の体重、身長の定義\n",
    "person1_weight = 65\n",
    "person1_height = 170\n",
    "\n",
    "person2_weight = 76\n",
    "person2_height = 165\n",
    "\n",
    "person3_weight = 50\n",
    "person3_height = 180\n",
    "\n",
    "def calcBMI(weight, height):\n",
    "    h = height / 100\n",
    "    return weight / (h ** 2)\n",
    "\n",
    "print(calcBMI(person1_weight, person1_height))\n",
    "print(calcBMI(person2_weight, person2_height))\n",
    "print(calcBMI(person3_weight, person3_height))"
   ]
  },
  {
   "cell_type": "markdown",
   "metadata": {},
   "source": [
    "健康度計算クラスを定義し、以上のコードを修正しなさい"
   ]
  },
  {
   "cell_type": "code",
   "execution_count": 7,
   "metadata": {},
   "outputs": [
    {
     "name": "stdout",
     "output_type": "stream",
     "text": [
      "22.49134948096886\n",
      "27.915518824609737\n",
      "15.432098765432098\n"
     ]
    }
   ],
   "source": [
    "class Bmi:\n",
    "    def __init__(self, weight, height):\n",
    "        self.weight = weight\n",
    "        self.height = height\n",
    "    \n",
    "    def calcBMI(self):\n",
    "        h=self.height / 100    \n",
    "        return self.weight /(h**2)\n",
    "\n",
    "person1 = Bmi(65,170)\n",
    "person2 = Bmi(76,165)\n",
    "person3 = Bmi(50,180)\n",
    "\n",
    "print(person1.calcBMI())\n",
    "print(person2.calcBMI())\n",
    "print(person3.calcBMI())"
   ]
  },
  {
   "cell_type": "markdown",
   "metadata": {},
   "source": [
    "## 2. 継承\n",
    "上のクラスを継承したクラスを作成し、その人の身長に対する適正体重を出力するメソッドを追加せよ。"
   ]
  },
  {
   "cell_type": "code",
   "execution_count": 9,
   "metadata": {},
   "outputs": [
    {
     "name": "stdout",
     "output_type": "stream",
     "text": [
      "63.57999999999999\n",
      "59.894999999999996\n",
      "71.28\n"
     ]
    }
   ],
   "source": [
    "class Nomal(Bmi):\n",
    "    def __init__(self, weight, height):\n",
    "        super().__init__(weight,height)\n",
    "    \n",
    "    def nomalBMI(self):\n",
    "        n = self.height/100\n",
    "        return (n**2)*22\n",
    "\n",
    "person1 = Nomal(65,170)\n",
    "person2 = Nomal(76,165)\n",
    "person3 = Nomal(50,180)\n",
    "\n",
    "print(person1.nomalBMI())\n",
    "print(person2.nomalBMI())\n",
    "print(person3.nomalBMI())  \n",
    "    "
   ]
  },
  {
   "cell_type": "markdown",
   "metadata": {},
   "source": [
    "## 3. カプセル化\n",
    "インスタンス化したあとに体重を改めて公開したくないとする。  \n",
    "クラス内の体重をカプセル化しなさい。"
   ]
  },
  {
   "cell_type": "code",
   "execution_count": 12,
   "metadata": {
    "scrolled": true
   },
   "outputs": [
    {
     "ename": "AttributeError",
     "evalue": "'CupsleBmi' object has no attribute 'calcBMI'",
     "output_type": "error",
     "traceback": [
      "\u001b[1;31m---------------------------------------------------------------------------\u001b[0m",
      "\u001b[1;31mAttributeError\u001b[0m                            Traceback (most recent call last)",
      "\u001b[1;32m<ipython-input-12-41e9b2db129a>\u001b[0m in \u001b[0;36m<module>\u001b[1;34m\u001b[0m\n\u001b[0;32m      5\u001b[0m \u001b[1;33m\u001b[0m\u001b[0m\n\u001b[0;32m      6\u001b[0m \u001b[0mperson1\u001b[0m \u001b[1;33m=\u001b[0m \u001b[0mCupsleBmi\u001b[0m\u001b[1;33m(\u001b[0m\u001b[1;36m65\u001b[0m\u001b[1;33m,\u001b[0m\u001b[1;36m170\u001b[0m\u001b[1;33m)\u001b[0m\u001b[1;33m\u001b[0m\u001b[1;33m\u001b[0m\u001b[0m\n\u001b[1;32m----> 7\u001b[1;33m \u001b[0mprint\u001b[0m\u001b[1;33m(\u001b[0m\u001b[0mperson1\u001b[0m\u001b[1;33m.\u001b[0m\u001b[0mcalcBMI\u001b[0m\u001b[1;33m(\u001b[0m\u001b[1;33m)\u001b[0m\u001b[1;33m)\u001b[0m\u001b[1;33m\u001b[0m\u001b[1;33m\u001b[0m\u001b[0m\n\u001b[0m",
      "\u001b[1;31mAttributeError\u001b[0m: 'CupsleBmi' object has no attribute 'calcBMI'"
     ]
    }
   ],
   "source": [
    "class CupsleBmi:\n",
    "    def __init__(self, weight, height):\n",
    "        self._weight = weight\n",
    "        self.height = height\n",
    "\n",
    "person1 = CupsleBmi(65,170)\n",
    "print(person1.calcBMI()) "
   ]
  },
  {
   "cell_type": "markdown",
   "metadata": {},
   "source": [
    "## 4. static method\n",
    "２で追加した適正体重を出力するメソッドをインスタンス化しなくても利用したい。  \n",
    "staticmethodを利用して外部でも実行できるようにせよ。  "
   ]
  },
  {
   "cell_type": "code",
   "execution_count": 31,
   "metadata": {},
   "outputs": [
    {
     "name": "stdout",
     "output_type": "stream",
     "text": [
      "15.432098765432098\n",
      "63.57999999999999\n"
     ]
    }
   ],
   "source": [
    "class Bmi:\n",
    "    def __init__(self, weight, height):\n",
    "        self.weight = weight\n",
    "        self.height = height\n",
    "    \n",
    "    def calcBMI(self):\n",
    "        h=self.height / 100    \n",
    "        return self.weight /(h**2)\n",
    "\n",
    "    @staticmethod\n",
    "    def nomalBMI(weight, height):\n",
    "        n = height/100\n",
    "        return (n**2)*22\n",
    "\n",
    "person1 = Bmi(50,180)\n",
    "print(person1.calcBMI())\n",
    "\n",
    "#Bmi.nomalBMI(40,160)\n",
    "print(Bmi.nomalBMI(40,170))\n",
    "\n",
    "   "
   ]
  },
  {
   "cell_type": "code",
   "execution_count": null,
   "metadata": {},
   "outputs": [],
   "source": []
  }
 ],
 "metadata": {
  "kernelspec": {
   "display_name": "Python 3",
   "language": "python",
   "name": "python3"
  },
  "language_info": {
   "codemirror_mode": {
    "name": "ipython",
    "version": 3
   },
   "file_extension": ".py",
   "mimetype": "text/x-python",
   "name": "python",
   "nbconvert_exporter": "python",
   "pygments_lexer": "ipython3",
   "version": "3.8.8"
  }
 },
 "nbformat": 4,
 "nbformat_minor": 2
}
